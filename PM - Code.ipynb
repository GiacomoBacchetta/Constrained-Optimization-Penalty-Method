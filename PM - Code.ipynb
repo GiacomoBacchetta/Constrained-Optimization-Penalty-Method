{
 "cells": [
  {
   "cell_type": "markdown",
   "id": "093904d1",
   "metadata": {},
   "source": [
    "# Constrained optimization: Penalty Method\n",
    "* ## Giacomo Bacchetta, bacchetta.1840949@studenti.uniroma1.it\n",
    "* ## Edoardo Cesaroni, cesaroni.1841742@studenti.uniroma1.it \n",
    "* ## Fabio Ciccarelli, ciccarelli.1835348@studenti.uniroma1.it "
   ]
  },
  {
   "cell_type": "markdown",
   "id": "e0f3be56",
   "metadata": {},
   "source": [
    "## Packages' import"
   ]
  },
  {
   "cell_type": "markdown",
   "id": "3f8de1a7",
   "metadata": {},
   "source": [
    "We import the python libraries useful for the implementation of the method. These are:\n",
    "- $\\bf{Autograd.numpy}$, which allows us to use siple mathematical functions;\n",
    "- $\\bf{Autograd}$, used to calculate the gradient (*grad*) of several functions;\n",
    "- $\\bf{AIL}$, which contains the Truncated Newthon Method as unconstrained opitimization method applied below."
   ]
  },
  {
   "cell_type": "code",
   "execution_count": 1,
   "id": "64ddce69",
   "metadata": {},
   "outputs": [],
   "source": [
    "import autograd.numpy as np\n",
    "from autograd import grad\n",
    "from AIL import nt"
   ]
  },
  {
   "cell_type": "markdown",
   "id": "707b93ad",
   "metadata": {},
   "source": [
    "## KKT's Conditions"
   ]
  },
  {
   "cell_type": "markdown",
   "id": "97e0a15a",
   "metadata": {},
   "source": [
    "This function allows to verify with an accuracy equal to Epsilon how much a point respects the Karush-Kuhn-Tucker conditions that are the necessary conditions of first order for a constrained optimization problem."
   ]
  },
  {
   "cell_type": "code",
   "execution_count": 2,
   "id": "abfbd9a0",
   "metadata": {},
   "outputs": [],
   "source": [
    "def verify_KKT(f, g, h, x, lam, mu):\n",
    "    epsilon = 1e-3\n",
    "    \n",
    "    for i in range(len(g)):\n",
    "        if g[i](x) > epsilon or lam[i]*g[i](x) > epsilon or lam[i]*g[i](x) < -epsilon:\n",
    "            return False\n",
    "        \n",
    "    for j in range(len(h)):\n",
    "        if h[j](x) > epsilon or h[j](x) < -epsilon:\n",
    "            return False\n",
    "\n",
    "    if np.linalg.norm(grad(f)(x) + sum(grad(g[i])(x)*lam[i] for i in range(len(g))) + sum(grad(h[j])(x)*mu[j] for j in range(len(h)))) > epsilon:\n",
    "        return False\n",
    "\n",
    "    return True"
   ]
  },
  {
   "cell_type": "markdown",
   "id": "acf7eff6",
   "metadata": {},
   "source": [
    "## Main"
   ]
  },
  {
   "cell_type": "markdown",
   "id": "2bb3ff7f",
   "metadata": {},
   "source": [
    "Before moving to the core of the algorithm, we defined the P function that replicates the quadratic penalty function."
   ]
  },
  {
   "cell_type": "code",
   "execution_count": 3,
   "id": "e3e47bc9",
   "metadata": {},
   "outputs": [],
   "source": [
    "def P(x):\n",
    "    \n",
    "    return f(x)+ (1/epsilon_p)*sum(max(0, g[i](x))**2 for i in range(len(g)))+ (1/epsilon_p)*sum(h[j](x)**2 for j in range(len(h)))"
   ]
  },
  {
   "cell_type": "code",
   "execution_count": 4,
   "id": "0aadf867",
   "metadata": {},
   "outputs": [],
   "source": [
    "def penalty_method(f, g, h, x):\n",
    "    \n",
    "    global epsilon_p\n",
    "\n",
    "    theta1 = 0.5\n",
    "    theta2 = 0.5\n",
    "    theta3 = 0.5\n",
    "    delta = 10\n",
    "    epsilon_prev = 0.1                 \n",
    "    epsilon_current = 0.1\n",
    "    epsilon_p = epsilon_current\n",
    "    ite = 0\n",
    "    \n",
    "    \n",
    "    while True:\n",
    "        \n",
    "        lam = []\n",
    "        mu = []\n",
    "\n",
    "        for i in range(len(g)):\n",
    "            lam.append((max(0, g[i](x)))*(2/epsilon_prev))\n",
    "\n",
    "        for j in range(len(h)):\n",
    "            mu.append((h[j](x))*(2/epsilon_prev))\n",
    "\n",
    "        verifica_KKT = verify_KKT(f, g, h, x, lam, mu)\n",
    "        if verify_KKT(f, g, h, x, lam, mu) == True:\n",
    "            print('*'*70)\n",
    "            print('PM: STOP! KKT condition is verified.')\n",
    "            print('PM: The optimum point is:',x, 'with lambda=', lam, 'and mu=', mu)\n",
    "            print('PM: The optimum value of the bbjective function is:', f(x))\n",
    "            return x\n",
    "\n",
    "        epsilon_p = epsilon_current\n",
    "\n",
    "        x_succ = nt(P, x, delta)\n",
    "    \n",
    "\n",
    "        if sum(max(0, g[i](x_succ))**2 for i in range(len(g))) + sum((h[j](x_succ))**2 for j in range(len(h))) <= theta1*(sum(max(0, g[i](x))**2 for i in range(len(g))) + sum((h[j](x))**2 for j in range(len(h)))):\n",
    "            epsilon_prev = epsilon_current\n",
    "            epsilon_current = epsilon_current\n",
    "            \n",
    "        elif epsilon_current >= 1e-6: \n",
    "            epsilon_prev = epsilon_current\n",
    "            epsilon_current = theta2 * epsilon_current\n",
    "            \n",
    "        elif epsilon_current < 1e-6:\n",
    "            print('*'*70)\n",
    "            print('PM: STOP! Epsilon too little, the best point is:', x_succ)\n",
    "            print('PM: The best value of the objective function is:', f(x_succ))\n",
    "            return x_succ\n",
    "\n",
    "        if delta > 1e-4:\n",
    "            delta = delta * theta3\n",
    "        x = x_succ\n",
    "        \n",
    "        ite = ite + 1"
   ]
  },
  {
   "cell_type": "markdown",
   "id": "3de94570",
   "metadata": {},
   "source": [
    "## IMPLEMENTATION TEST"
   ]
  },
  {
   "cell_type": "markdown",
   "id": "5c4ca9ea",
   "metadata": {},
   "source": [
    "### Beale's Problem"
   ]
  },
  {
   "cell_type": "code",
   "execution_count": 5,
   "id": "62e9cc9d",
   "metadata": {},
   "outputs": [
    {
     "name": "stdout",
     "output_type": "stream",
     "text": [
      "**********************************************************************\n",
      "PM: STOP! KKT condition is verified.\n",
      "PM: The optimum point is: [1.33321742 0.77785486 0.44463741] with lambda= [0.22214344452684998, 0.0, 0.0, 0.0] and mu= []\n",
      "PM: The optimum value of the bbjective function is: 0.11103399135715675\n"
     ]
    }
   ],
   "source": [
    "g = []\n",
    "h = []\n",
    "\n",
    "def f(x):\n",
    "    return 9-8*x[0]-6*x[1]-4*x[2]+2*x[0]**2+2*x[1]**2+x[2]**2+2*x[0]*x[1]+2*x[0]*x[2]\n",
    "\n",
    "def g1(x):\n",
    "    return -(3-x[0]-x[1]-2*x[2]) \n",
    "g.append(g1)\n",
    "\n",
    "def g2(x):\n",
    "    return -(x[0]) \n",
    "g.append(g2)\n",
    "\n",
    "def g3(x):\n",
    "    return -(x[1]) \n",
    "g.append(g3)\n",
    "\n",
    "def g4(x):\n",
    "    return -(x[2]) \n",
    "g.append(g4)\n",
    "\n",
    "x0 = np.array([0.5, 0.5, 0.5])\n",
    "\n",
    "\n",
    "penalty_method(f, g, h, x0);"
   ]
  },
  {
   "cell_type": "markdown",
   "id": "07a73cd4",
   "metadata": {},
   "source": [
    "### HS 108"
   ]
  },
  {
   "cell_type": "code",
   "execution_count": 6,
   "id": "be2b14af",
   "metadata": {},
   "outputs": [
    {
     "name": "stdout",
     "output_type": "stream",
     "text": [
      "**********************************************************************\n",
      "PM: STOP! KKT condition is verified.\n",
      "PM: The optimum point is: [ 9.43168974e-01  3.32483147e-01  1.83597405e-01  9.83058880e-01\n",
      "  9.43152661e-01  3.32529423e-01  1.83624450e-01  9.83025136e-01\n",
      " -1.48722151e-08] with lambda= [0.14434496036415112, 0.1443308943404098, 0.0, 0.14433777795005653, 0.14433394707388914, 0.0, 0.07217266267630862, 0.07217266267630862, 0.0, 0.0, 0.1443408850083472, 0.0, 0.0, 1.9036435334339376e-05] and mu= []\n",
      "PM: The optimum value of the bbjective function is: -0.8661149218655723\n"
     ]
    }
   ],
   "source": [
    "g = []\n",
    "h = []\n",
    "\n",
    "def f(x):\n",
    "    return -0.5*(x[0]*x[3]-x[1]*x[2]+x[2]*x[8]-x[4]*x[8]+x[4]*x[7]-x[5]*x[6])\n",
    "\n",
    "def g1(x):\n",
    "    return -(1-x[2]**2-x[3]**2)\n",
    "g.append(g1)\n",
    "\n",
    "def g2(x):\n",
    "    return -(1-x[4]**2-x[5]**2)\n",
    "g.append(g2)\n",
    "\n",
    "def g3(x):\n",
    "    return -(1-(x[0]-x[4])**2-(x[1]-x[5])**2)\n",
    "g.append(g3)\n",
    "\n",
    "def g4(x):\n",
    "    return -(1-(x[0]-x[6])**2-(x[1]-x[7])**2)\n",
    "g.append(g4)\n",
    "\n",
    "def g5(x):\n",
    "    return -(1-(x[2]-x[4])**2-(x[3]-x[5])**2)\n",
    "g.append(g5)\n",
    "\n",
    "def g6(x):\n",
    "    return -(1-(x[2]-x[6])**2-(x[3]-x[7])**2)\n",
    "g.append(g6)\n",
    "\n",
    "def g7d(x):\n",
    "    return -(1-x[6]**2-(x[7]-x[8])**2)\n",
    "g.append(g7d)\n",
    "\n",
    "def g7s(x):\n",
    "    return -(x[2]*x[8])\n",
    "g.append(g7d)\n",
    "\n",
    "def g8d(x):\n",
    "    return -(x[4]*x[7]-x[5]*x[6])\n",
    "g.append(g8d)\n",
    "\n",
    "def g8s(x):\n",
    "    return -(1-x[8]**2)\n",
    "g.append(g8s)\n",
    "\n",
    "def g9d(x):\n",
    "    return -(1-x[0]**2-(x[1]-x[8])**2)\n",
    "g.append(g9d)\n",
    "\n",
    "def g9s(x):\n",
    "    return -(x[0]*x[3]-x[1]*x[2])\n",
    "g.append(g9s)\n",
    "\n",
    "def g10d(x):\n",
    "    return x[4]*x[8]\n",
    "g.append(g10d)\n",
    "\n",
    "def g10s(x):\n",
    "    return -x[8]\n",
    "g.append(g10s)\n",
    "\n",
    "x0 = np.array([1.0,1.0,1.0,1.0,1.0,1.0,1.0,1.0,1.0])\n",
    "\n",
    "\n",
    "penalty_method(f, g, h, x0);"
   ]
  },
  {
   "cell_type": "markdown",
   "id": "3ab0b84a",
   "metadata": {},
   "source": [
    "### HS 71"
   ]
  },
  {
   "cell_type": "code",
   "execution_count": 7,
   "id": "a0762736",
   "metadata": {},
   "outputs": [
    {
     "name": "stdout",
     "output_type": "stream",
     "text": [
      "**********************************************************************\n",
      "PM: STOP! KKT condition is verified.\n",
      "PM: The optimum point is: [0.99915175 4.7430355  3.82090078 1.38063515] with lambda= [0.5523182383103631, 0.0, 1.0857659920208107, 0.0, 0.0, 0.0, 0.0, 0.0, 0.0] and mu= [0.1614833604253363]\n",
      "PM: The optimum value of the bbjective function is: 17.012836625500288\n"
     ]
    }
   ],
   "source": [
    "g = []\n",
    "h = []\n",
    "\n",
    "def f(x):\n",
    "    return x[0]*x[3]*(x[0]+x[1]+x[2])+x[2]\n",
    "\n",
    "def g1(x):\n",
    "    return -((x[0]*x[1]*x[2]*x[3]) - 25.)\n",
    "g.append(g1)\n",
    "\n",
    "def h1(x):\n",
    "    return ((((x[0])**2)+((x[1])**2)+((x[2])**2)+((x[3])**2)) - 40.)\n",
    "h.append(h1)\n",
    "\n",
    "def g2d(x):\n",
    "    return x[0] - 5\n",
    "g.append(g2d)\n",
    "\n",
    "def g2s(x):\n",
    "    return -(x[0] - 1)\n",
    "g.append(g2s)\n",
    "\n",
    "def g3d(x):\n",
    "    return x[1] - 5\n",
    "g.append(g3d)\n",
    "\n",
    "def g3s(x):\n",
    "    return -(x[1] - 1)\n",
    "g.append(g3s)\n",
    "\n",
    "def g4d(x):\n",
    "    return x[2] - 5\n",
    "g.append(g4d)\n",
    "\n",
    "def g4s(x):\n",
    "    return -(x[2] - 1)\n",
    "g.append(g4s)\n",
    "\n",
    "def g5d(x):\n",
    "    return x[3] - 5\n",
    "g.append(g5d)\n",
    "\n",
    "def g5s(x):\n",
    "    return -(x[3] - 1)\n",
    "g.append(g5s)\n",
    "\n",
    "x0 = np.array([1., 5., 5., 1.])  \n",
    "\n",
    "\n",
    "penalty_method(f, g, h, x0);"
   ]
  },
  {
   "cell_type": "markdown",
   "id": "baa76c98",
   "metadata": {},
   "source": [
    "### HS 76"
   ]
  },
  {
   "cell_type": "code",
   "execution_count": 8,
   "id": "06471f9a",
   "metadata": {},
   "outputs": [
    {
     "name": "stdout",
     "output_type": "stream",
     "text": [
      "**********************************************************************\n",
      "PM: STOP! KKT condition is verified.\n",
      "PM: The optimum point is: [ 2.72580331e-01  2.09100275e+00 -3.37320662e-04  5.45840261e-01] with lambda= [0.45449936106535915, 0.0, 0.0, 0.0, 0.0, 1.7270817910756555, 0.0] and mu= []\n",
      "PM: The optimum value of the bbjective function is: -4.682441141853801\n"
     ]
    }
   ],
   "source": [
    "g = []\n",
    "h = []\n",
    "\n",
    "def f(x):\n",
    "    return x[0]**2 + 0.5*(x[1]**2) + x[2]**2 + 0.5*(x[3]**2) - (x[0]*x[2]) + (x[2]*x[3]) - x[0] - 3*x[1] + x[2] - x[3]\n",
    "\n",
    "def g1(x):\n",
    "    return -(5. - x[0] - 2*x[1] - x[2] - x[3])\n",
    "g.append(g1)\n",
    "\n",
    "def g2(x):\n",
    "    return -(4. - 3.*x[0] - x[1] - 2.*x[2] + x[3])\n",
    "g.append(g2)\n",
    "\n",
    "def g3(x):\n",
    "    return -(x[1] + 4. * x[2] - 1.5)\n",
    "g.append(g3)\n",
    "\n",
    "def g4(x):\n",
    "    return -x[0]\n",
    "g.append(g4)\n",
    "\n",
    "def g5(x):\n",
    "    return -x[1]\n",
    "g.append(g5)\n",
    "\n",
    "def g6(x):\n",
    "    return -x[2]\n",
    "g.append(g6)\n",
    "\n",
    "def g7(x):\n",
    "    return -x[3]\n",
    "g.append(g7)\n",
    "\n",
    "x0 = np.array([.5, .5, .5, .5])\n",
    "\n",
    "\n",
    "penalty_method(f, g, h, x0);"
   ]
  },
  {
   "cell_type": "markdown",
   "id": "4593a93c",
   "metadata": {},
   "source": [
    "### HS 100"
   ]
  },
  {
   "cell_type": "code",
   "execution_count": 9,
   "id": "b6fb3481",
   "metadata": {},
   "outputs": [
    {
     "name": "stdout",
     "output_type": "stream",
     "text": [
      "**********************************************************************\n",
      "PM: STOP! KKT condition is verified.\n",
      "PM: The optimum point is: [ 2.33050762  1.95137396 -0.47755362  4.36573318 -0.62448774  1.03813208\n",
      "  1.59422536] with lambda= [1.139720432198601, 0.0, 0.0, 0.36863051533146063] and mu= []\n",
      "PM: The optimum value of the bbjective function is: 680.6294968894514\n"
     ]
    }
   ],
   "source": [
    "g = []\n",
    "h = []\n",
    "\n",
    "def f(x):\n",
    "    return (x[0] - 10.)**2 + 5.*(x[1]-12.)**2 + x[2]**4 + 3*(x[3] - 11.)**2 + 10.*x[4]**6 + 7.*x[5]**2 + x[6]**4 - 4.*x[5]*x[6] - 10*x[5] - 8.*x[6]\n",
    "\n",
    "def g1(x):\n",
    "    return -(127 -2*x[0]**2 -3*x[1]**4 - x[2] - 4*x[3]**2 - 5*x[4])\n",
    "g.append(g1)\n",
    "\n",
    "def g2(x):\n",
    "    return -(282 - 7*x[0] - 3*x[1] -10*x[2]**2 -x[3] + x[4])\n",
    "g.append(g2)\n",
    "\n",
    "def g3(x):\n",
    "    return -(196 - 23*x[0] - x[1]**2 -6*x[5]**2+8*x[6])\n",
    "g.append(g3)\n",
    "\n",
    "def g4(x):\n",
    "    return -(-4*x[0]**2 -x[1]**2 +3*x[0]*x[1] -2*x[2]**2 -5*x[5] + 11*x[6])\n",
    "g.append(g4)\n",
    "\n",
    "x0 = np.array([1., 2., 0., 4., 0., 1., 1.])\n",
    "\n",
    "\n",
    "penalty_method(f, g, h, x0);"
   ]
  }
 ],
 "metadata": {
  "kernelspec": {
   "display_name": "Python 3",
   "language": "python",
   "name": "python3"
  },
  "language_info": {
   "codemirror_mode": {
    "name": "ipython",
    "version": 3
   },
   "file_extension": ".py",
   "mimetype": "text/x-python",
   "name": "python",
   "nbconvert_exporter": "python",
   "pygments_lexer": "ipython3",
   "version": "3.8.8"
  }
 },
 "nbformat": 4,
 "nbformat_minor": 5
}
