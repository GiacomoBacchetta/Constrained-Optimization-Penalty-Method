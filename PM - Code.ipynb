{
 "cells": [
  {
   "cell_type": "markdown",
   "id": "093904d1",
   "metadata": {},
   "source": [
    "# Constrained optimization: Penalty Method\n",
    "-  **Giacomo Bacchetta**, <bacchetta.1840949@studenti.uniroma1.it>, LinkedIn: <https://www.linkedin.com/in/giacomobacchetta/>\n",
    "-  **Edoardo Cesaroni**, <cesaroni.1841742@studenti.uniroma1.it>, LinkedIn: <https://www.linkedin.com/in/edoardocesaroni/>\n",
    "-  **Fabio Ciccarelli**, <ciccarelli.1835348@studenti.uniroma1.it>, LinkedIn: <https://www.linkedin.com/in/fabio-ciccarelli-601399198/>"
   ]
  },
  {
   "cell_type": "markdown",
   "id": "e0f3be56",
   "metadata": {},
   "source": [
    "## Packages' import"
   ]
  },
  {
   "cell_type": "markdown",
   "id": "3f8de1a7",
   "metadata": {},
   "source": [
    "Import of built-in python functions to compute gradient.\n",
    "- $\\bf{Autograd.numpy}$, equivalent to the better known numpy package;\n",
    "- $\\bf{Autograd}$, used to calculate the gradient (*grad*) of the functions taken into account;\n",
    "- $\\bf{AIL}$, which contains the Truncated Newthon Method as unconstrained opitimization method applied below;\n",
    "- $\\bf{matplotlib}$, which allows us to represent graphically the data."
   ]
  },
  {
   "cell_type": "code",
   "execution_count": 1,
   "id": "64ddce69",
   "metadata": {},
   "outputs": [],
   "source": [
    "import autograd.numpy as np\n",
    "from autograd import grad\n",
    "from AIL import nt\n",
    "import matplotlib.pyplot as plt"
   ]
  },
  {
   "cell_type": "markdown",
   "id": "707b93ad",
   "metadata": {},
   "source": [
    "## Karush-Kuhn-Tuckers's Conditions"
   ]
  },
  {
   "cell_type": "markdown",
   "id": "97e0a15a",
   "metadata": {},
   "source": [
    "This function allows to verify with an accuracy equal to $\\epsilon$ how much a point respects the Karush-Kuhn-Tucker conditions that are the necessary conditions of first order for a constrained optimization problem."
   ]
  },
  {
   "cell_type": "code",
   "execution_count": 2,
   "id": "abfbd9a0",
   "metadata": {},
   "outputs": [],
   "source": [
    "def verify_KKT(f, g, h, x, lam, mu):\n",
    "    epsilon = 1e-3\n",
    "    \n",
    "    for i in range(len(g)):\n",
    "        if g[i](x) > epsilon or lam[i]*g[i](x) > epsilon or lam[i]*g[i](x) < -epsilon:\n",
    "            return False\n",
    "        \n",
    "    for j in range(len(h)):\n",
    "        if h[j](x) > epsilon or h[j](x) < -epsilon:\n",
    "            return False\n",
    "\n",
    "    if np.linalg.norm(grad(f)(x) + sum(grad(g[i])(x)*lam[i] for i in range(len(g))) + sum(grad(h[j])(x)*mu[j] for j in range(len(h)))) > epsilon:\n",
    "        return False\n",
    "\n",
    "    return True"
   ]
  },
  {
   "cell_type": "markdown",
   "id": "77b37a4e",
   "metadata": {},
   "source": [
    "## Other useful function"
   ]
  },
  {
   "cell_type": "markdown",
   "id": "2bb3ff7f",
   "metadata": {},
   "source": [
    "Before moving to the core of the algorithm, we defined the P function that replicates the quadratic penalty one."
   ]
  },
  {
   "cell_type": "code",
   "execution_count": 3,
   "id": "e3e47bc9",
   "metadata": {},
   "outputs": [],
   "source": [
    "def P(x):\n",
    "    \n",
    "    return f(x)+ (1/epsilon_p)*sum(max(0, g[i](x))**2 for i in range(len(g)))+ (1/epsilon_p)*sum(h[j](x)**2 for j in range(len(h)))"
   ]
  },
  {
   "cell_type": "markdown",
   "id": "acf7eff6",
   "metadata": {},
   "source": [
    "## Penalty Method\n",
    "\n",
    "### Theory overview\n",
    "\n",
    "The Penalty Method can be descrived as follows:\n",
    "\n",
    "- **Step 0**. Given $x_0 \\in R^n, \\theta_1, \\theta_2, \\theta_3 \\in(0,1), \\varepsilon_{-1}=\\varepsilon_0>0$ e $\\delta_0>0$, we fix $k=0$.\n",
    "\n",
    "$\\newline$\n",
    "\n",
    "- **Step 1**. We fix\n",
    "\n",
    "$\\newline$\n",
    "\n",
    "$$\n",
    "\\begin{aligned}\n",
    "\\left(\\lambda_k\\right)_i &=\\frac{2}{\\varepsilon_{k-1}} \\max \\left\\{0, g_i\\left(x_k\\right)\\right\\}, \\quad i=1, \\ldots, m \\\\\n",
    "\\left(\\mu_k\\right)_j &=\\frac{2}{\\varepsilon_{k-1}} h_j\\left(x_k\\right), \\quad j=1, \\ldots, p\n",
    "\\end{aligned}\n",
    "$$\n",
    "\n",
    "$\\newline$\n",
    "\n",
    "if KKT's conditions are satisfied by $\\left(x_k, \\lambda_k, \\mu_k\\right)$ , then STOP.\n",
    "\n",
    "$\\newline$\n",
    "\n",
    "- **Step 2**. From the point $x_k$, we calculate the point $x_{k+1} \\in R^n$ such that\n",
    "\n",
    "$\\newline$\n",
    "\n",
    "$$\n",
    "\\| \\nabla P\\left(\\left(x_{k+1} ; \\varepsilon_k\\right) \\| \\leq \\delta_k .\\right.\n",
    "$$\n",
    "\n",
    "$\\newline$\n",
    "\n",
    "- **Step 3**. If\n",
    "\n",
    "$\\newline$\n",
    "\n",
    "$$\n",
    "\\sum_{i=1}^m \\max \\left\\{0, g_i\\left(x_{k+1}\\right)\\right\\}^2+\\sum_{j=1}^p h_j\\left(x_{k+1}\\right)^2 \\leq \\theta_1\\left(\\sum_{i=1}^m \\max \\left\\{0, g_i\\left(x_k\\right)\\right\\}^2+\\sum_{j=1}^p h_j\\left(x_k\\right)^2\\right)\n",
    "$$\n",
    "\n",
    "$\\newline$\n",
    "\n",
    "we fix $\\varepsilon_{k+1}=\\varepsilon_k$ ,otherwise we fix $\\varepsilon_{k+1}=\\theta_2 \\varepsilon_k$.\n",
    "\n",
    "$\\newline$\n",
    "\n",
    "- **Step 4**. We fix $\\delta_{k+1}=\\theta_3 \\delta_k, k=k+1$ and we back to the Step 1."
   ]
  },
  {
   "cell_type": "markdown",
   "id": "048c7805",
   "metadata": {},
   "source": [
    "### Software implementation"
   ]
  },
  {
   "cell_type": "code",
   "execution_count": 4,
   "id": "0aadf867",
   "metadata": {},
   "outputs": [],
   "source": [
    "def penalty_method(f, g, h, x):\n",
    "    \n",
    "    norm_grad = [np.linalg.norm(grad(f)(x))]\n",
    "    \n",
    "    global epsilon_p\n",
    "\n",
    "    theta1 = 0.5\n",
    "    theta2 = 0.5\n",
    "    theta3 = 0.5\n",
    "    delta = 10\n",
    "    epsilon_prev = 0.1                 \n",
    "    epsilon_current = 0.1\n",
    "    epsilon_p = epsilon_current\n",
    "    ite = 0\n",
    "    \n",
    "    \n",
    "    while True:\n",
    "        \n",
    "        lam = []\n",
    "        mu = []\n",
    "\n",
    "        for i in range(len(g)):\n",
    "            lam.append((max(0, g[i](x)))*(2/epsilon_prev))\n",
    "\n",
    "        for j in range(len(h)):\n",
    "            mu.append((h[j](x))*(2/epsilon_prev))\n",
    "\n",
    "        verifica_KKT = verify_KKT(f, g, h, x, lam, mu)\n",
    "        if verify_KKT(f, g, h, x, lam, mu) == True:\n",
    "            print('Successful convergence to a local optimum \\n x\\u002A:', x.round(3), '\\n f(x\\u002A):', round(f(x), 4), '\\n mu\\u002A:', mu, '\\n lambda\\u002A:', lam)\n",
    "            \n",
    "            plt.plot(range(len(norm_grad)), norm_grad)\n",
    "            plt.title('Speed of convergence', fontweight = 'bold')\n",
    "            plt.xlabel('Iterations')\n",
    "            plt.ylabel('Gradient norm')\n",
    "            \n",
    "            return x\n",
    "\n",
    "        epsilon_p = epsilon_current\n",
    "\n",
    "        x_succ = nt(P, x, delta)\n",
    "    \n",
    "\n",
    "        if sum(max(0, g[i](x_succ))**2 for i in range(len(g))) + sum((h[j](x_succ))**2 for j in range(len(h))) <= theta1*(sum(max(0, g[i](x))**2 for i in range(len(g))) + sum((h[j](x))**2 for j in range(len(h)))):\n",
    "            epsilon_prev = epsilon_current\n",
    "            epsilon_current = epsilon_current\n",
    "            \n",
    "        elif epsilon_current >= 1e-6: \n",
    "            epsilon_prev = epsilon_current\n",
    "            epsilon_current = theta2 * epsilon_current\n",
    "            \n",
    "        elif epsilon_current < 1e-6:\n",
    "            print('Successful convergence to a local optimum \\n x\\u002A:', x.round(3), '\\n f(x\\u002A):', round(f(x), 4), '\\n mu\\u002A:', mu, '\\n lambda\\u002A:', lam)\n",
    "            \n",
    "            plt.plot(range(len(norm_grad)), norm_grad)\n",
    "            plt.title('Speed of convergence', fontweight = 'bold')\n",
    "            plt.xlabel('Iterations')\n",
    "            plt.ylabel('Gradient norm')\n",
    "            \n",
    "            return x_succ\n",
    "\n",
    "        if delta > 1e-4:\n",
    "            delta = delta * theta3\n",
    "        x = x_succ\n",
    "        \n",
    "        norm_grad.append(np.linalg.norm(grad(f)(x)))\n",
    "        \n",
    "        ite = ite + 1"
   ]
  },
  {
   "cell_type": "markdown",
   "id": "3de94570",
   "metadata": {},
   "source": [
    "## Reliability tests"
   ]
  },
  {
   "cell_type": "markdown",
   "id": "5c4ca9ea",
   "metadata": {},
   "source": [
    "### Beale's Problem\n",
    "\n",
    "$$\n",
    "\\begin{aligned}\n",
    "f(x)= \\ &9-8x_1-6x_2-4x_3+2x_1^2+2x_2^2+x_3^2+2x_1x_2+2x_1x_3\\newline\n",
    "s.t.\\ & 3-x_1-x_2-2x_3 \\geq 0 \\newline\n",
    "& 0 \\leq x_i, i = 1,2,3 \\newline\n",
    "\\newline\n",
    "&x_0=[0.5, 0.5, 0.5]^T \\newline \n",
    "&x^*=[\\frac{4}{3},\\frac{7}{9}, \\frac{4}{9}]^T \\newline \n",
    "&f\\left(x^*\\right)=\\frac{1}{9}\n",
    "\\end{aligned}\n",
    "$$"
   ]
  },
  {
   "cell_type": "code",
   "execution_count": 5,
   "id": "62e9cc9d",
   "metadata": {},
   "outputs": [
    {
     "name": "stdout",
     "output_type": "stream",
     "text": [
      "Successful convergence to a local optimum \n",
      " x*: [1.333 0.778 0.445] \n",
      " f(x*): 0.111 \n",
      " mu*: [] \n",
      " lambda*: [0.22214344452684998, 0.0, 0.0, 0.0]\n"
     ]
    },
    {
     "data": {
      "image/png": "[encoded data removed]",
      "text/plain": [
       "<Figure size 432x288 with 1 Axes>"
      ]
     },
     "metadata": {
      "needs_background": "light"
     },
     "output_type": "display_data"
    }
   ],
   "source": [
    "g = []\n",
    "h = []\n",
    "\n",
    "def f(x):\n",
    "    return 9-8*x[0]-6*x[1]-4*x[2]+2*x[0]**2+2*x[1]**2+x[2]**2+2*x[0]*x[1]+2*x[0]*x[2]\n",
    "\n",
    "def g1(x):\n",
    "    return -(3-x[0]-x[1]-2*x[2]) \n",
    "g.append(g1)\n",
    "\n",
    "def g2(x):\n",
    "    return -(x[0]) \n",
    "g.append(g2)\n",
    "\n",
    "def g3(x):\n",
    "    return -(x[1]) \n",
    "g.append(g3)\n",
    "\n",
    "def g4(x):\n",
    "    return -(x[2]) \n",
    "g.append(g4)\n",
    "\n",
    "x0 = np.array([0.5, 0.5, 0.5])\n",
    "\n",
    "\n",
    "penalty_method(f, g, h, x0);"
   ]
  },
  {
   "cell_type": "markdown",
   "id": "3ab0b84a",
   "metadata": {},
   "source": [
    "### HS 71\n",
    "\n",
    "$$\n",
    "\\begin{aligned}\n",
    "f(x)= \\ &x_1x_4(x_1+x_2+x_3)+x_3\\newline\n",
    "s.t. \\ & x_1x_2x_3x_4 - 25 = 0\\newline\n",
    "& x_1^2 + x_2^2 + x_3^2 + x_4^2 - 40 = 0\\newline\n",
    "& 1 \\leq x_i \\leq 5, i = 1,2,3, 4 \\newline\n",
    "\\newline\n",
    "&x_0=[1, 5, 5, 1]^T \\newline \n",
    "&x^*=[1, 4.742994, 3.8211502, 1.3794082]^T \\newline \n",
    "&f\\left(x^*\\right)=17.0140173\n",
    "\\end{aligned}\n",
    "$$"
   ]
  },
  {
   "cell_type": "code",
   "execution_count": 6,
   "id": "a0762736",
   "metadata": {},
   "outputs": [
    {
     "name": "stdout",
     "output_type": "stream",
     "text": [
      "Successful convergence to a local optimum \n",
      " x*: [0.999 4.743 3.821 1.381] \n",
      " f(x*): 17.0128 \n",
      " mu*: [0.1614833604253363] \n",
      " lambda*: [0.5523182383103631, 0.0, 1.0857659920208107, 0.0, 0.0, 0.0, 0.0, 0.0, 0.0]\n"
     ]
    },
    {
     "data": {
      "image/png": "[encoded data removed]",
      "text/plain": [
       "<Figure size 432x288 with 1 Axes>"
      ]
     },
     "metadata": {
      "needs_background": "light"
     },
     "output_type": "display_data"
    }
   ],
   "source": [
    "g = []\n",
    "h = []\n",
    "\n",
    "def f(x):\n",
    "    return x[0]*x[3]*(x[0]+x[1]+x[2])+x[2]\n",
    "\n",
    "def g1(x):\n",
    "    return -((x[0]*x[1]*x[2]*x[3]) - 25.)\n",
    "g.append(g1)\n",
    "\n",
    "def h1(x):\n",
    "    return ((((x[0])**2)+((x[1])**2)+((x[2])**2)+((x[3])**2)) - 40.)\n",
    "h.append(h1)\n",
    "\n",
    "def g2d(x):\n",
    "    return x[0] - 5\n",
    "g.append(g2d)\n",
    "\n",
    "def g2s(x):\n",
    "    return -(x[0] - 1)\n",
    "g.append(g2s)\n",
    "\n",
    "def g3d(x):\n",
    "    return x[1] - 5\n",
    "g.append(g3d)\n",
    "\n",
    "def g3s(x):\n",
    "    return -(x[1] - 1)\n",
    "g.append(g3s)\n",
    "\n",
    "def g4d(x):\n",
    "    return x[2] - 5\n",
    "g.append(g4d)\n",
    "\n",
    "def g4s(x):\n",
    "    return -(x[2] - 1)\n",
    "g.append(g4s)\n",
    "\n",
    "def g5d(x):\n",
    "    return x[3] - 5\n",
    "g.append(g5d)\n",
    "\n",
    "def g5s(x):\n",
    "    return -(x[3] - 1)\n",
    "g.append(g5s)\n",
    "\n",
    "x0 = np.array([1., 5., 5., 1.])  \n",
    "\n",
    "\n",
    "penalty_method(f, g, h, x0);"
   ]
  },
  {
   "cell_type": "markdown",
   "id": "baa76c98",
   "metadata": {},
   "source": [
    "### HS 76\n",
    "\n",
    "$$\n",
    "\\begin{aligned}\n",
    "f(x)= \\ &x_1^2+0.5x_2^2+x_3^2+0.5x_4^2-x_1x_3+x_3x_4-x_1-3x_2+x_3-x_4\\newline\n",
    "s.t. \\ & 5-x_1-2x_2-x_3-x_4 \\geq 0\\newline\n",
    "& 4 - 3x_1 - x_2 - 2x_3 +x_4 \\geq 0 \\newline\n",
    "& x_2 + 4x_3 - 1.5 \\geq 0 \\newline\n",
    "& 0 \\leq x_i , i = 1,2,3, 4 \\newline\n",
    "\\newline\n",
    "&x_0=[0.5, 0.5, 0.5, 0.5]^T \\newline \n",
    "&x^*=[0.2727273, 2.090909, -0.26E^{10}, 0.5454545]^T \\newline \n",
    "&f\\left(x^*\\right)= - 4.6818181\n",
    "\\end{aligned}\n",
    "$$"
   ]
  },
  {
   "cell_type": "code",
   "execution_count": 7,
   "id": "06471f9a",
   "metadata": {},
   "outputs": [
    {
     "name": "stdout",
     "output_type": "stream",
     "text": [
      "Successful convergence to a local optimum \n",
      " x*: [ 0.273  2.091 -0.     0.546] \n",
      " f(x*): -4.6824 \n",
      " mu*: [] \n",
      " lambda*: [0.45449936106535915, 0.0, 0.0, 0.0, 0.0, 1.7270817910756555, 0.0]\n"
     ]
    },
    {
     "data": {
      "image/png": "[encoded data removed]",
      "text/plain": [
       "<Figure size 432x288 with 1 Axes>"
      ]
     },
     "metadata": {
      "needs_background": "light"
     },
     "output_type": "display_data"
    }
   ],
   "source": [
    "g = []\n",
    "h = []\n",
    "\n",
    "def f(x):\n",
    "    return x[0]**2 + 0.5*(x[1]**2) + x[2]**2 + 0.5*(x[3]**2) - (x[0]*x[2]) + (x[2]*x[3]) - x[0] - 3*x[1] + x[2] - x[3]\n",
    "\n",
    "def g1(x):\n",
    "    return -(5. - x[0] - 2*x[1] - x[2] - x[3])\n",
    "g.append(g1)\n",
    "\n",
    "def g2(x):\n",
    "    return -(4. - 3.*x[0] - x[1] - 2.*x[2] + x[3])\n",
    "g.append(g2)\n",
    "\n",
    "def g3(x):\n",
    "    return -(x[1] + 4. * x[2] - 1.5)\n",
    "g.append(g3)\n",
    "\n",
    "def g4(x):\n",
    "    return -x[0]\n",
    "g.append(g4)\n",
    "\n",
    "def g5(x):\n",
    "    return -x[1]\n",
    "g.append(g5)\n",
    "\n",
    "def g6(x):\n",
    "    return -x[2]\n",
    "g.append(g6)\n",
    "\n",
    "def g7(x):\n",
    "    return -x[3]\n",
    "g.append(g7)\n",
    "\n",
    "x0 = np.array([.5, .5, .5, .5])\n",
    "\n",
    "\n",
    "penalty_method(f, g, h, x0);"
   ]
  },
  {
   "cell_type": "markdown",
   "id": "4593a93c",
   "metadata": {},
   "source": [
    "### HS 100\n",
    "\n",
    "$$\n",
    "\\begin{aligned}\n",
    "f(x)=\\ & \\left(x_1-10\\right)^2+5\\left(x_2-12\\right)^2+x_3^4+3\\left(x_4-11\\right)^2 +10 x_5{ }^6+7 x_6^2+x_7^4-4 x_6 x_7-10 x_6-8 x_7 \\newline\n",
    "s.t. \\ & 127-2x_1^2-3x_2^4-x_3-4x_4^2-5x_5 \\geq 0 \\newline\n",
    "& 282 - 7x_1 - 3x_2 - 10x_3^2 -x_4 + x_5 \\geq 0 \\newline\n",
    "& 196 - 23x_1 - x_2^2 - 6x_6^2 + 8x_7 \\geq 0 \\newline\n",
    "&-4x_1^2-x_2^2+3x_1x_2-2x_3^2-5x_6+11x_7 \\geq 0 \\newline\n",
    "\\newline\n",
    "&x_0=[1, 2, 0, 4, 0, 1, 1]^T \\newline \n",
    "&x^*=[2.330499, 1.951372, -4.775414, 4.365726, -0.6244870, 1.039121, 1.594227]^T \\newline \n",
    "&f\\left(x^*\\right)= 680.6300573\n",
    "\\end{aligned}\n",
    "$$"
   ]
  },
  {
   "cell_type": "code",
   "execution_count": 8,
   "id": "b6fb3481",
   "metadata": {},
   "outputs": [
    {
     "name": "stdout",
     "output_type": "stream",
     "text": [
      "Successful convergence to a local optimum \n",
      " x*: [ 2.331  1.951 -0.478  4.366 -0.624  1.038  1.594] \n",
      " f(x*): 680.6295 \n",
      " mu*: [] \n",
      " lambda*: [1.139720432198601, 0.0, 0.0, 0.36863051533146063]\n"
     ]
    },
    {
     "data": {
      "image/png": "[encoded data removed]",
      "text/plain": [
       "<Figure size 432x288 with 1 Axes>"
      ]
     },
     "metadata": {
      "needs_background": "light"
     },
     "output_type": "display_data"
    }
   ],
   "source": [
    "g = []\n",
    "h = []\n",
    "\n",
    "def f(x):\n",
    "    return (x[0] - 10.)**2 + 5.*(x[1]-12.)**2 + x[2]**4 + 3*(x[3] - 11.)**2 + 10.*x[4]**6 + 7.*x[5]**2 + x[6]**4 - 4.*x[5]*x[6] - 10*x[5] - 8.*x[6]\n",
    "\n",
    "def g1(x):\n",
    "    return -(127 -2*x[0]**2 -3*x[1]**4 - x[2] - 4*x[3]**2 - 5*x[4])\n",
    "g.append(g1)\n",
    "\n",
    "def g2(x):\n",
    "    return -(282 - 7*x[0] - 3*x[1] -10*x[2]**2 -x[3] + x[4])\n",
    "g.append(g2)\n",
    "\n",
    "def g3(x):\n",
    "    return -(196 - 23*x[0] - x[1]**2 -6*x[5]**2+8*x[6])\n",
    "g.append(g3)\n",
    "\n",
    "def g4(x):\n",
    "    return -(-4*x[0]**2 -x[1]**2 +3*x[0]*x[1] -2*x[2]**2 -5*x[5] + 11*x[6])\n",
    "g.append(g4)\n",
    "\n",
    "x0 = np.array([1., 2., 0., 4., 0., 1., 1.])\n",
    "\n",
    "\n",
    "penalty_method(f, g, h, x0);"
   ]
  },
  {
   "cell_type": "markdown",
   "id": "07a73cd4",
   "metadata": {},
   "source": [
    "### HS 108\n",
    "\n",
    "\n",
    "$$\n",
    "\\begin{aligned}\n",
    "f(x)= \\ & -0.5(x_1x_4 - x_2x_3 + x_3x_9 - x_5x_9 + x_5x_8 - x_6x_7)\\newline\n",
    "s.t. \\ & 1 - x_3^2 - x_4 ^ 2 \\geq 0 \\newline\n",
    "& 1 - x_5^2 - x_6 ^ 2 \\geq 0 \\newline\n",
    "& 1 - x_9^2 \\geq 0 \\newline\n",
    "& 1 - x_1^2 - (x_2 -x_9)^2 \\geq 0 \\newline\n",
    "& 1 - (x_1-x_5)^2 - (x_2-x_6)^2 \\geq 0 \\newline\n",
    "& 1 - (x_1-x_7)^2 - (x_2-x_8)^2 \\geq 0 \\newline\n",
    "& 1 - (x_3-x_5)^2 - (x_4-x_6)^2 \\geq 0 \\newline\n",
    "& 1 - (x_3-x_7)^2 - (x_4-x_8)^2 \\geq 0 \\newline\n",
    "& 1 - x_7^2 - (x_8 -x_9)^2 \\geq 0 \\newline\n",
    "& x_3x_9 \\geq 0 \\newline\n",
    "& x_1x_4 - x_2x_3 \\geq 0 \\newline\n",
    "& x_3x_9 \\geq 0 \\newline\n",
    "& -x_5x_9 \\geq 0 \\newline\n",
    "& x_5x_8 - x_6x_7 \\geq 0 \\newline\n",
    "& 0 \\leq x_9 \\newline\n",
    "\\newline\n",
    "&x_0=[1, 1, 1, 1, 1, 1, 1, 1, 1]^T \\newline \n",
    "&x^*=[0.8841292, 0.4672425, 0.0374076, 0.9992996, 0.8841292, 0.4672424, 0.03722076, 0.9992996, 0.26E^{-19}]^T \\newline \n",
    "&f\\left(x^*\\right)= -0.8660254038\n",
    "\\end{aligned}\n",
    "$$"
   ]
  },
  {
   "cell_type": "code",
   "execution_count": 9,
   "id": "be2b14af",
   "metadata": {},
   "outputs": [
    {
     "name": "stdout",
     "output_type": "stream",
     "text": [
      "Successful convergence to a local optimum \n",
      " x*: [ 0.943  0.332  0.184  0.983  0.943  0.333  0.184  0.983 -0.   ] \n",
      " f(x*): -0.8661 \n",
      " mu*: [] \n",
      " lambda*: [0.14434496036415112, 0.1443308943404098, 0.0, 0.14433777795005653, 0.14433394707388914, 0.0, 0.07217266267630862, 0.07217266267630862, 0.0, 0.0, 0.1443408850083472, 0.0, 0.0, 1.9036435334339376e-05]\n"
     ]
    },
    {
     "data": {
      "image/png": "[encoded data removed]",
      "text/plain": [
       "<Figure size 432x288 with 1 Axes>"
      ]
     },
     "metadata": {
      "needs_background": "light"
     },
     "output_type": "display_data"
    }
   ],
   "source": [
    "g = []\n",
    "h = []\n",
    "\n",
    "def f(x):\n",
    "    return -0.5*(x[0]*x[3]-x[1]*x[2]+x[2]*x[8]-x[4]*x[8]+x[4]*x[7]-x[5]*x[6])\n",
    "\n",
    "def g1(x):\n",
    "    return -(1-x[2]**2-x[3]**2)\n",
    "g.append(g1)\n",
    "\n",
    "def g2(x):\n",
    "    return -(1-x[4]**2-x[5]**2)\n",
    "g.append(g2)\n",
    "\n",
    "def g3(x):\n",
    "    return -(1-(x[0]-x[4])**2-(x[1]-x[5])**2)\n",
    "g.append(g3)\n",
    "\n",
    "def g4(x):\n",
    "    return -(1-(x[0]-x[6])**2-(x[1]-x[7])**2)\n",
    "g.append(g4)\n",
    "\n",
    "def g5(x):\n",
    "    return -(1-(x[2]-x[4])**2-(x[3]-x[5])**2)\n",
    "g.append(g5)\n",
    "\n",
    "def g6(x):\n",
    "    return -(1-(x[2]-x[6])**2-(x[3]-x[7])**2)\n",
    "g.append(g6)\n",
    "\n",
    "def g7d(x):\n",
    "    return -(1-x[6]**2-(x[7]-x[8])**2)\n",
    "g.append(g7d)\n",
    "\n",
    "def g7s(x):\n",
    "    return -(x[2]*x[8])\n",
    "g.append(g7d)\n",
    "\n",
    "def g8d(x):\n",
    "    return -(x[4]*x[7]-x[5]*x[6])\n",
    "g.append(g8d)\n",
    "\n",
    "def g8s(x):\n",
    "    return -(1-x[8]**2)\n",
    "g.append(g8s)\n",
    "\n",
    "def g9d(x):\n",
    "    return -(1-x[0]**2-(x[1]-x[8])**2)\n",
    "g.append(g9d)\n",
    "\n",
    "def g9s(x):\n",
    "    return -(x[0]*x[3]-x[1]*x[2])\n",
    "g.append(g9s)\n",
    "\n",
    "def g10d(x):\n",
    "    return x[4]*x[8]\n",
    "g.append(g10d)\n",
    "\n",
    "def g10s(x):\n",
    "    return -x[8]\n",
    "g.append(g10s)\n",
    "\n",
    "x0 = np.array([1.0,1.0,1.0,1.0,1.0,1.0,1.0,1.0,1.0])\n",
    "\n",
    "\n",
    "penalty_method(f, g, h, x0);"
   ]
  }
 ],
 "metadata": {
  "kernelspec": {
   "display_name": "Python 3",
   "language": "python",
   "name": "python3"
  },
  "language_info": {
   "codemirror_mode": {
    "name": "ipython",
    "version": 3
   },
   "file_extension": ".py",
   "mimetype": "text/x-python",
   "name": "python",
   "nbconvert_exporter": "python",
   "pygments_lexer": "ipython3",
   "version": "3.8.8"
  }
 },
 "nbformat": 4,
 "nbformat_minor": 5
}
