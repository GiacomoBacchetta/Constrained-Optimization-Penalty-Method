{
 "cells": [
  {
   "cell_type": "markdown",
   "id": "093904d1",
   "metadata": {},
   "source": [
    "# Constrained optimization: Penalty Method\n",
    "## Giacomo Bacchetta, bacchetta.1840949@studenti.uniroma1.it\n",
    "## Edoardo Cesaroni, cesaroni.1841742@studenti.uniroma1.it \n",
    "## Fabio Ciccarelli, ciccarelli.1835348@studenti.uniroma1.it "
   ]
  },
  {
   "cell_type": "markdown",
   "id": "e0f3be56",
   "metadata": {},
   "source": [
    "## Support's functions"
   ]
  },
  {
   "cell_type": "markdown",
   "id": "3f8de1a7",
   "metadata": {},
   "source": [
    "We import the python libraries useful for the implementation of the method. These are:\n",
    "- Autograd.numpy\n",
    "- Autograd"
   ]
  },
  {
   "cell_type": "code",
   "execution_count": 1,
   "id": "64ddce69",
   "metadata": {},
   "outputs": [],
   "source": [
    "import autograd.numpy as np\n",
    "from autograd import grad"
   ]
  },
  {
   "cell_type": "markdown",
   "id": "65dbffec",
   "metadata": {},
   "source": [
    "## Unconstrained Optimization"
   ]
  },
  {
   "cell_type": "markdown",
   "id": "f661fad3",
   "metadata": {},
   "source": [
    "We choose the Truncated Newton Method as the unconstrained optimization one into the Penalty Method.\n",
    "There is another repository about this unconstrained optimization method. It is availble in the link: "
   ]
  },
  {
   "cell_type": "code",
   "execution_count": 2,
   "id": "90c654c1",
   "metadata": {
    "code_folding": [
     0
    ]
   },
   "outputs": [],
   "source": [
    "def armijo(f, x_k, d):\n",
    "    alpha = 1\n",
    "    gamma = 1e-3\n",
    "\n",
    "    while True:\n",
    "        if f(x_k + alpha*d) > f(x_k) + alpha*gamma*(grad(f)(x_k) @ d):\n",
    "            alpha = 0.5*alpha\n",
    "        else:\n",
    "            return alpha"
   ]
  },
  {
   "cell_type": "code",
   "execution_count": 3,
   "id": "d2739540",
   "metadata": {
    "code_folding": [
     0,
     6
    ]
   },
   "outputs": [],
   "source": [
    "def mxv(v, f, x):\n",
    "    eta = 1e-6\n",
    "    x_succ = x + eta*v\n",
    "    return (grad(f)(x_succ) - grad(f)(x))/eta\n",
    "\n",
    "def gradfi(d, f, x):\n",
    "    return mxv(d,f,x) + grad(f)(x)"
   ]
  },
  {
   "cell_type": "code",
   "execution_count": 4,
   "id": "30cbbbcd",
   "metadata": {
    "code_folding": []
   },
   "outputs": [],
   "source": [
    "def dt(f, x, k):\n",
    "\n",
    "    epsilon_1 = 0.5\n",
    "    epsilon_2 = 0.5\n",
    "    p = 0\n",
    "\n",
    "#     s = -(gradfi(p, f, x))\n",
    "    s = -grad(f)(x)\n",
    "    \n",
    "    if (s @ mxv(s, f, x)) < (epsilon_1 * (np.linalg.norm(s))**2):\n",
    "        d = -(grad(f)(x))\n",
    "        return d\n",
    "    \n",
    "    while True:\n",
    "        \n",
    "        if (s @ mxv(s, f, x)) <= 1e-6:              #default = 1e-9\n",
    "            return -grad(f)(x)\n",
    "        \n",
    "        alfa = -((gradfi(p, f, x) @ s) / (s @ mxv(s, f, x)))\n",
    "        p = p + alfa * s\n",
    "\n",
    "        if np.linalg.norm(gradfi(p, f, x)) <= (1/(k+1))*epsilon_2*(np.linalg.norm(grad(f)(x))):\n",
    "            d = p\n",
    "            return d\n",
    "        \n",
    "        else:\n",
    "            beta = (gradfi(p, f, x) @ mxv(s, f, x)) / (s @ mxv(s, f, x))\n",
    "            s = -(gradfi(p, f, x)) + beta * s\n",
    "\n",
    "            if (s @ mxv(s, f, x)) < (epsilon_1 * (np.linalg.norm(s))**2):\n",
    "                d = p\n",
    "                return d"
   ]
  },
  {
   "cell_type": "code",
   "execution_count": 5,
   "id": "65b6002e",
   "metadata": {
    "code_folding": [
     0
    ]
   },
   "outputs": [],
   "source": [
    "def nt(f, x, eps = 1e-5):  \n",
    "    \n",
    "    k = 0\n",
    "    \n",
    "    if np.linalg.norm(grad(f)(x)) < eps:\n",
    "        return x\n",
    "    \n",
    "    while True:\n",
    "\n",
    "        d = dt(f, x, k)\n",
    "        a = armijo(f, x, d)\n",
    "        x = x + a * d\n",
    "        \n",
    "        if np.linalg.norm(grad(f)(x)) <= eps:\n",
    "            return x\n",
    "\n",
    "        k = k + 1"
   ]
  },
  {
   "cell_type": "markdown",
   "id": "707b93ad",
   "metadata": {},
   "source": [
    "## KKT Conditions"
   ]
  },
  {
   "cell_type": "code",
   "execution_count": 6,
   "id": "abfbd9a0",
   "metadata": {},
   "outputs": [],
   "source": [
    "def verify_KKT(f, g, h, x, lam, mu):\n",
    "    epsilon = 1e-3\n",
    "    \n",
    "    for i in range(len(g)):\n",
    "        if g[i](x) > epsilon or lam[i]*g[i](x) > epsilon or lam[i]*g[i](x) < -epsilon:\n",
    "            return False\n",
    "        \n",
    "    for j in range(len(h)):\n",
    "        if h[j](x) > epsilon or h[j](x) < -epsilon:\n",
    "            return False\n",
    "\n",
    "    if np.linalg.norm(grad(f)(x) + sum(grad(g[i])(x)*lam[i] for i in range(len(g))) + sum(grad(h[j])(x)*mu[j] for j in range(len(h)))) > epsilon:\n",
    "        return False\n",
    "\n",
    "    return True"
   ]
  },
  {
   "cell_type": "markdown",
   "id": "acf7eff6",
   "metadata": {},
   "source": [
    "## Main"
   ]
  },
  {
   "cell_type": "markdown",
   "id": "2bb3ff7f",
   "metadata": {},
   "source": [
    "Before moving to the core of the algorithm, we defined the P function that replicates the quadratic penalty function."
   ]
  },
  {
   "cell_type": "code",
   "execution_count": 7,
   "id": "e3e47bc9",
   "metadata": {},
   "outputs": [],
   "source": [
    "def P(x):\n",
    "    return f(x)+ (1/epsilon_p)*sum(max(0, g[i](x))**2 for i in range(len(g)))+ (1/epsilon_p)*sum(h[j](x)**2 for j in range(len(h)))"
   ]
  },
  {
   "cell_type": "code",
   "execution_count": 8,
   "id": "0aadf867",
   "metadata": {},
   "outputs": [],
   "source": [
    "g = []\n",
    "h = []\n",
    "\n",
    "def penalty_method(f, g, h, x):\n",
    "    global epsilon_p\n",
    "\n",
    "    theta1 = 0.5\n",
    "    theta2 = 0.5\n",
    "    theta3 = 0.5\n",
    "    delta = 10\n",
    "    epsilon_prev = 0.1                  #alternative value = 1\n",
    "    epsilon_current = 0.1\n",
    "    epsilon_p = epsilon_current\n",
    "    ite = 0\n",
    "    \n",
    "    \n",
    "    while True:\n",
    "        \n",
    "        lam = []\n",
    "        mu = []\n",
    "\n",
    "        for i in range(len(g)):\n",
    "            lam.append((max(0, g[i](x)))*(2/epsilon_prev))\n",
    "\n",
    "        for j in range(len(h)):\n",
    "            mu.append((h[j](x))*(2/epsilon_prev))\n",
    "\n",
    "        verifica_KKT = verify_KKT(f, g, h, x, lam, mu)\n",
    "        if verify_KKT(f, g, h, x, lam, mu) == True:\n",
    "            print('*'*70)\n",
    "            print('PM: STOP! KKT condition is verified.')\n",
    "            print('PM: The optimum point is:',x, 'with lambda=', lam, 'and mu=', mu)\n",
    "            print('PM: The optimum value of the bbjective function is:', f(x))\n",
    "            return x\n",
    "\n",
    "        epsilon_p = epsilon_current\n",
    "\n",
    "\n",
    "        x_succ = nt(P, x, delta)\n",
    "    \n",
    "\n",
    "        if sum(max(0, g[i](x_succ))**2 for i in range(len(g))) + sum((h[j](x_succ))**2 for j in range(len(h))) <= theta1*(sum(max(0, g[i](x))**2 for i in range(len(g))) + sum((h[j](x))**2 for j in range(len(h)))):\n",
    "            epsilon_prev = epsilon_current\n",
    "            epsilon_current = epsilon_current\n",
    "            \n",
    "        elif epsilon_current >= 1e-6: \n",
    "            epsilon_prev = epsilon_current\n",
    "            epsilon_current = theta2 * epsilon_current\n",
    "            \n",
    "        elif epsilon_current < 1e-6:\n",
    "            print('*'*70)\n",
    "            print('PM: STOP! Epsilon too little, the best point is:', x_succ)\n",
    "            print('PM: The best value of the objective function is:', f(x_succ))\n",
    "            return x_succ\n",
    "\n",
    "        if delta > 1e-4:\n",
    "            delta = delta * theta3\n",
    "        x = x_succ\n",
    "        \n",
    "        ite = ite + 1"
   ]
  },
  {
   "cell_type": "markdown",
   "id": "3de94570",
   "metadata": {},
   "source": [
    "## Implementation test"
   ]
  },
  {
   "cell_type": "markdown",
   "id": "1a26bb62",
   "metadata": {
    "heading_collapsed": true,
    "hidden": true
   },
   "source": [
    "### PROBLEMA 1.1"
   ]
  },
  {
   "cell_type": "code",
   "execution_count": 9,
   "id": "312f1b24",
   "metadata": {
    "hidden": true
   },
   "outputs": [],
   "source": [
    "# def f(x):\n",
    "#     return (x[0]-5.)**2 + x[1]**2 - 25\n",
    "\n",
    "# def g1(x):\n",
    "#     return -(-x[0]**2 + x[1])\n",
    "# g.append(g1)\n",
    "\n",
    "# x0 = np.array([4.9, 0.1])\n",
    "\n",
    "\n",
    "# penalty_method(f, g, h, x0)"
   ]
  },
  {
   "cell_type": "markdown",
   "id": "4c9c27a6",
   "metadata": {
    "heading_collapsed": true,
    "hidden": true
   },
   "source": [
    "## PROBLEMA 1.2"
   ]
  },
  {
   "cell_type": "code",
   "execution_count": 10,
   "id": "37ef0fe5",
   "metadata": {
    "hidden": true
   },
   "outputs": [],
   "source": [
    "# def f(x):\n",
    "#     f = 0.5*x[0]**2+x[1]**2-x[0]*x[1]-7*x[0]-7*x[1]\n",
    "#     return f\n",
    "\n",
    "# def g1(x):\n",
    "#     return -25 + 4*x[0]**2 + x[1]**2\n",
    "# g.append(g1)\n",
    "\n",
    "# x0 = np.array([0., 0.])\n",
    "\n",
    "\n",
    "# penalty_method(f, g, h, x0)"
   ]
  },
  {
   "cell_type": "markdown",
   "id": "de693719",
   "metadata": {
    "heading_collapsed": true,
    "hidden": true
   },
   "source": [
    "## PROBLEMA 1.3"
   ]
  },
  {
   "cell_type": "code",
   "execution_count": 11,
   "id": "e0e75635",
   "metadata": {
    "hidden": true
   },
   "outputs": [],
   "source": [
    "# def f(x):\n",
    "#     return (x[0]-2)**2 + x[1]**2\n",
    "\n",
    "# def g1(x):\n",
    "#     return -((1-x[0])**3) + x[1]\n",
    "# g.append(g1)\n",
    "\n",
    "# def g2(x):\n",
    "#     return -x[0]\n",
    "# g.append(g2)\n",
    "\n",
    "# def g3(x):\n",
    "#     return -x[1]\n",
    "# g.append(g3)\n",
    "\n",
    "# x0 = np.array([-2., -2.])\n",
    "\n",
    "\n",
    "# penalty_method(f, g, h, x0)"
   ]
  },
  {
   "cell_type": "markdown",
   "id": "eb015739",
   "metadata": {
    "heading_collapsed": true,
    "hidden": true
   },
   "source": [
    "## PROBLEMA 3.18"
   ]
  },
  {
   "cell_type": "code",
   "execution_count": 12,
   "id": "738c2d70",
   "metadata": {
    "hidden": true
   },
   "outputs": [],
   "source": [
    "# def f(x):\n",
    "#     return (x[0]-1)**2+(x[1]-x[2])**2+(x[3]-x[4])**2\n",
    "\n",
    "# def h1(x):\n",
    "#     return (x[0]+x[1]+[2]+x[3]+[4]-5)\n",
    "# h.append(h1)\n",
    "\n",
    "# def h2(x):\n",
    "#     return (x[2]-2*(x[3]+x[4])+3)\n",
    "# h.append(h2)\n",
    "\n",
    "# x0 = np.array([3.0,5.0,-3.0,2.0,-2.0])\n",
    "\n",
    "\n",
    "# penalty_method(f, g, h, x0)"
   ]
  },
  {
   "cell_type": "markdown",
   "id": "7611cc98",
   "metadata": {
    "heading_collapsed": true,
    "hidden": true
   },
   "source": [
    "## PROBLEMA 3.23"
   ]
  },
  {
   "cell_type": "code",
   "execution_count": 13,
   "id": "ab291e37",
   "metadata": {
    "hidden": true
   },
   "outputs": [],
   "source": [
    "# def f(x):\n",
    "#     return (x[0]-x[1])**2+(x[1]+x[2]-2)**2+(x[3]-1)**2+(x[4]-1)**2\n",
    "\n",
    "# def h1(x):\n",
    "#     return (x[0]+3*x[1])\n",
    "# h.append(h1)\n",
    "\n",
    "# def h2(x):\n",
    "#     return (x[2]+x[3]-2*x[4])\n",
    "# h.append(h2)\n",
    "\n",
    "# def h3(x):\n",
    "#     return (x[1]-x[4])\n",
    "# h.append(h3)\n",
    "\n",
    "# def g1(x):\n",
    "#     return -(x[4]+10) \n",
    "# g.append(g1)\n",
    "\n",
    "# def g2(x):\n",
    "#     return -(x[0]+10) \n",
    "# g.append(g2)\n",
    "\n",
    "# def g3(x):\n",
    "#     return -(x[1]+10) \n",
    "# g.append(g3)\n",
    "\n",
    "# def g4(x):\n",
    "#     return -(x[2]+10) \n",
    "# g.append(g4)\n",
    "\n",
    "# def g5(x):\n",
    "#     return -(x[3]+10)\n",
    "# g.append(g5)\n",
    "\n",
    "# def g6(x):\n",
    "#     return (x[0]-10) \n",
    "# g.append(g6)\n",
    "\n",
    "# def g7(x):\n",
    "#     return (x[1]-10)\n",
    "# g.append(g7)\n",
    "\n",
    "# def g8(x):\n",
    "#     return (x[2]-10)\n",
    "# g.append(g8)\n",
    "\n",
    "# def g9(x):\n",
    "#     return (x[3]-10)\n",
    "# g.append(g9)\n",
    "\n",
    "# def g10(x):\n",
    "#     return (x[4]-10)\n",
    "# g.append(g10)\n",
    "\n",
    "\n",
    "# x0 = np.array([2.0,2.0,2.0,2.0,2.0])\n",
    "\n",
    "\n",
    "# # Solution: (-33,11,27,-5,11)/43 f(x*) = 176/43\n",
    "\n",
    "# penalty_method(f, g, h, x0)"
   ]
  },
  {
   "cell_type": "code",
   "execution_count": null,
   "id": "6ee00536",
   "metadata": {},
   "outputs": [],
   "source": []
  }
 ],
 "metadata": {
  "kernelspec": {
   "display_name": "Python 3",
   "language": "python",
   "name": "python3"
  },
  "language_info": {
   "codemirror_mode": {
    "name": "ipython",
    "version": 3
   },
   "file_extension": ".py",
   "mimetype": "text/x-python",
   "name": "python",
   "nbconvert_exporter": "python",
   "pygments_lexer": "ipython3",
   "version": "3.8.8"
  }
 },
 "nbformat": 4,
 "nbformat_minor": 5
}
